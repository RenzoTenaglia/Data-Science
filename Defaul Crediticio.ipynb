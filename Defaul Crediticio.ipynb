{
  "nbformat": 4,
  "nbformat_minor": 0,
  "metadata": {
    "colab": {
      "provenance": [],
      "collapsed_sections": [
        "ZN1tXV3xTVdr",
        "2QXylDN7TmbC",
        "36uWXiSQWT57"
      ]
    },
    "kernelspec": {
      "name": "python3",
      "display_name": "Python 3"
    },
    "language_info": {
      "name": "python"
    }
  },
  "cells": [
    {
      "cell_type": "markdown",
      "source": [
        " # 1.Definicion de objetivo \n"
      ],
      "metadata": {
        "id": "ZN1tXV3xTVdr"
      }
    },
    {
      "cell_type": "markdown",
      "source": [
        "  Nuestro objetivo es en base a datos bancarios y de default estimar un modelo que permita predecir segun las caracteristicas de un invidio si este incurrira o no en un defaul crediticio. "
      ],
      "metadata": {
        "id": "MjbsNWW3TZB9"
      }
    },
    {
      "cell_type": "markdown",
      "source": [
        " # 2.Contexto comercial \n"
      ],
      "metadata": {
        "id": "2QXylDN7TmbC"
      }
    },
    {
      "cell_type": "markdown",
      "source": [
        "Nos encontramos dentro del equipo de Data Science del banco \"Amigos contra la inflacion\". Su objetivo es dar resguardo a a los ahorradores argentinos frente a la inflacion,proporcionando plazos fijos con tasas de interes reales positivas. \n",
        "En base a los depositos  se otorgan prestamos al publico en general. Es importante conocer previamente las  caracteristicas del individio a quien se le orotoga el prestamo para reducir la probabilidad de defaul y poder cumplir con nuestros depositantes. "
      ],
      "metadata": {
        "id": "wBzLDw_QVF-I"
      }
    },
    {
      "cell_type": "markdown",
      "source": [
        " # 3.Problema comercial "
      ],
      "metadata": {
        "id": "36uWXiSQWT57"
      }
    },
    {
      "cell_type": "markdown",
      "source": [
        "Cuando  un individuo X solicita un prestamos. Si el banco no cuenta con informacion crediticia previa de este cliente se arriesga a otorgarle  dinero a un individuo que quiza no lo devuelva. \n",
        "\n",
        "En base a este problema planteamos la pregunta guia de este trabajo ¿ Que variables son relevantes para saber conocer previamente si el individuo incurre en difault o no? \n",
        "¿Que valores de estas variables clave separan a los clientes morosos de los no morosos? "
      ],
      "metadata": {
        "id": "REYw5qqYWXBs"
      }
    },
    {
      "cell_type": "markdown",
      "source": [
        " # 4.Data Adquisicion "
      ],
      "metadata": {
        "id": "l6r7i5LzXqsv"
      }
    },
    {
      "cell_type": "markdown",
      "source": [
        "**Datos**\n",
        "\n",
        "\n",
        "*Credit record: ID: Número de cliente (Cualitativa normal) Months Balance: El mes de los datos extraídos es el punto de partida, al revés, 0 es el mes actual, -1 es el mes anterior, etc. (Cuantitativa discreta) Status: Indica el estado del cliente (Cuantitativa discreta) 0 = 1-29 dias de atraso en el pago de la deuda 1= 30-59 días de atraso en el pago de la deuda 2=60-89 días de atraso en el pago de la deuda 3=90-119 días de atraso en el pago de la deuda 4=120-140 días de atraso en el pago de la deuda 5= Deudas atrasadas o incobrables (más de 150 días de atraso) C= pagado este mes X=no hay préstamo este mes\n",
        "\n",
        "*Application record: Contiene las características del cliente ID: Número de cliente (Cuantitativa discreta) code gender: Género (Cualitativa Normal) Flag own car: ¿Hay un auto? (Cualitativa Normal) Flag own reality:¿Hay una propiedad? (Cualitativa Normal) cnt children: Número de hijos (Cuantitativa discreta) amt income total : Ingresos anuales (Cuantitativa continua) name income type: Categoría de ingresos (Cuantitativa Ordinal) name education type: Nivel de educación (Cuantitativa Ordinal) name family status: Estado civil (Cualitativa Normal) name housing type: Modo de vivir (Cualitativa Normal) Days Birthday: Días para el cumpleaños. Cuenta hacia atrás, -1 significa ayer. (Cuantitativa continua) Flag Móvil: ¿Hay algun telefono movil? (Cualitativa Normal) Flag_email: ¿Tiene email? (Cualitativa Normal) Occupation Type: Ocupación (Cuantitativa Ordinal) cnt fam members: Tamaño de la familia (Cuantitativa discreta)"
      ],
      "metadata": {
        "id": "tv7X3K6uvuGJ"
      }
    },
    {
      "cell_type": "code",
      "source": [
        "pip install pyxlsb"
      ],
      "metadata": {
        "colab": {
          "base_uri": "https://localhost:8080/"
        },
        "id": "zkka0vwLYswJ",
        "outputId": "7d6be716-1dc4-480c-fad8-ef768ce4a382"
      },
      "execution_count": null,
      "outputs": [
        {
          "output_type": "stream",
          "name": "stdout",
          "text": [
            "Looking in indexes: https://pypi.org/simple, https://us-python.pkg.dev/colab-wheels/public/simple/\n",
            "Collecting pyxlsb\n",
            "  Downloading pyxlsb-1.0.9-py2.py3-none-any.whl (23 kB)\n",
            "Installing collected packages: pyxlsb\n",
            "Successfully installed pyxlsb-1.0.9\n"
          ]
        }
      ]
    },
    {
      "cell_type": "code",
      "source": [
        "import pandas as pd \n",
        "import seaborn as sns \n",
        "import matplotlib.pyplot as plt\n",
        "import numpy as np"
      ],
      "metadata": {
        "id": "v_S7OD7leptM"
      },
      "execution_count": null,
      "outputs": []
    },
    {
      "cell_type": "code",
      "source": [
        "\n",
        "url_credito= \"https://github.com/RenzoTenaglia/Data-Science/blob/main/credit_record.csv?raw=true\"\n",
        "url_caract=\"https://github.com/RenzoTenaglia/Data-Science/blob/main/caracteristicas%20binario.xlsb?raw=true\"\n",
        "caract=pd.read_excel(url_caract)\n",
        "credito=pd.read_csv(url_credito)\n",
        "data=pd.merge(caract,credito, how= \"inner\")"
      ],
      "metadata": {
        "id": "pXdIiYKMX1lE"
      },
      "execution_count": null,
      "outputs": []
    },
    {
      "cell_type": "code",
      "source": [
        "data.head()"
      ],
      "metadata": {
        "colab": {
          "base_uri": "https://localhost:8080/",
          "height": 270
        },
        "id": "Tw-7xIRXZYOH",
        "outputId": "e319bea5-232e-4039-ada8-c22db54d14e3"
      },
      "execution_count": null,
      "outputs": [
        {
          "output_type": "execute_result",
          "data": {
            "text/plain": [
              "        ID CODE_GENDER FLAG_OWN_CAR FLAG_OWN_REALTY  CNT_CHILDREN  \\\n",
              "0  5008804           M            Y               Y             0   \n",
              "1  5008804           M            Y               Y             0   \n",
              "2  5008804           M            Y               Y             0   \n",
              "3  5008804           M            Y               Y             0   \n",
              "4  5008804           M            Y               Y             0   \n",
              "\n",
              "   AMT_INCOME_TOTAL NAME_INCOME_TYPE NAME_EDUCATION_TYPE NAME_FAMILY_STATUS  \\\n",
              "0          427500.0          Working    Higher education     Civil marriage   \n",
              "1          427500.0          Working    Higher education     Civil marriage   \n",
              "2          427500.0          Working    Higher education     Civil marriage   \n",
              "3          427500.0          Working    Higher education     Civil marriage   \n",
              "4          427500.0          Working    Higher education     Civil marriage   \n",
              "\n",
              "  NAME_HOUSING_TYPE  DAYS_BIRTH  DAYS_EMPLOYED  FLAG_MOBIL  FLAG_WORK_PHONE  \\\n",
              "0  Rented apartment      -12005          -4542           1                1   \n",
              "1  Rented apartment      -12005          -4542           1                1   \n",
              "2  Rented apartment      -12005          -4542           1                1   \n",
              "3  Rented apartment      -12005          -4542           1                1   \n",
              "4  Rented apartment      -12005          -4542           1                1   \n",
              "\n",
              "   FLAG_PHONE  FLAG_EMAIL OCCUPATION_TYPE  CNT_FAM_MEMBERS  MONTHS_BALANCE  \\\n",
              "0           0           0             NaN              2.0               0   \n",
              "1           0           0             NaN              2.0              -1   \n",
              "2           0           0             NaN              2.0              -2   \n",
              "3           0           0             NaN              2.0              -3   \n",
              "4           0           0             NaN              2.0              -4   \n",
              "\n",
              "  STATUS  \n",
              "0      C  \n",
              "1      C  \n",
              "2      C  \n",
              "3      C  \n",
              "4      C  "
            ],
            "text/html": [
              "\n",
              "  <div id=\"df-894add40-b522-4096-9fa2-cfb0fcaee79c\">\n",
              "    <div class=\"colab-df-container\">\n",
              "      <div>\n",
              "<style scoped>\n",
              "    .dataframe tbody tr th:only-of-type {\n",
              "        vertical-align: middle;\n",
              "    }\n",
              "\n",
              "    .dataframe tbody tr th {\n",
              "        vertical-align: top;\n",
              "    }\n",
              "\n",
              "    .dataframe thead th {\n",
              "        text-align: right;\n",
              "    }\n",
              "</style>\n",
              "<table border=\"1\" class=\"dataframe\">\n",
              "  <thead>\n",
              "    <tr style=\"text-align: right;\">\n",
              "      <th></th>\n",
              "      <th>ID</th>\n",
              "      <th>CODE_GENDER</th>\n",
              "      <th>FLAG_OWN_CAR</th>\n",
              "      <th>FLAG_OWN_REALTY</th>\n",
              "      <th>CNT_CHILDREN</th>\n",
              "      <th>AMT_INCOME_TOTAL</th>\n",
              "      <th>NAME_INCOME_TYPE</th>\n",
              "      <th>NAME_EDUCATION_TYPE</th>\n",
              "      <th>NAME_FAMILY_STATUS</th>\n",
              "      <th>NAME_HOUSING_TYPE</th>\n",
              "      <th>DAYS_BIRTH</th>\n",
              "      <th>DAYS_EMPLOYED</th>\n",
              "      <th>FLAG_MOBIL</th>\n",
              "      <th>FLAG_WORK_PHONE</th>\n",
              "      <th>FLAG_PHONE</th>\n",
              "      <th>FLAG_EMAIL</th>\n",
              "      <th>OCCUPATION_TYPE</th>\n",
              "      <th>CNT_FAM_MEMBERS</th>\n",
              "      <th>MONTHS_BALANCE</th>\n",
              "      <th>STATUS</th>\n",
              "    </tr>\n",
              "  </thead>\n",
              "  <tbody>\n",
              "    <tr>\n",
              "      <th>0</th>\n",
              "      <td>5008804</td>\n",
              "      <td>M</td>\n",
              "      <td>Y</td>\n",
              "      <td>Y</td>\n",
              "      <td>0</td>\n",
              "      <td>427500.0</td>\n",
              "      <td>Working</td>\n",
              "      <td>Higher education</td>\n",
              "      <td>Civil marriage</td>\n",
              "      <td>Rented apartment</td>\n",
              "      <td>-12005</td>\n",
              "      <td>-4542</td>\n",
              "      <td>1</td>\n",
              "      <td>1</td>\n",
              "      <td>0</td>\n",
              "      <td>0</td>\n",
              "      <td>NaN</td>\n",
              "      <td>2.0</td>\n",
              "      <td>0</td>\n",
              "      <td>C</td>\n",
              "    </tr>\n",
              "    <tr>\n",
              "      <th>1</th>\n",
              "      <td>5008804</td>\n",
              "      <td>M</td>\n",
              "      <td>Y</td>\n",
              "      <td>Y</td>\n",
              "      <td>0</td>\n",
              "      <td>427500.0</td>\n",
              "      <td>Working</td>\n",
              "      <td>Higher education</td>\n",
              "      <td>Civil marriage</td>\n",
              "      <td>Rented apartment</td>\n",
              "      <td>-12005</td>\n",
              "      <td>-4542</td>\n",
              "      <td>1</td>\n",
              "      <td>1</td>\n",
              "      <td>0</td>\n",
              "      <td>0</td>\n",
              "      <td>NaN</td>\n",
              "      <td>2.0</td>\n",
              "      <td>-1</td>\n",
              "      <td>C</td>\n",
              "    </tr>\n",
              "    <tr>\n",
              "      <th>2</th>\n",
              "      <td>5008804</td>\n",
              "      <td>M</td>\n",
              "      <td>Y</td>\n",
              "      <td>Y</td>\n",
              "      <td>0</td>\n",
              "      <td>427500.0</td>\n",
              "      <td>Working</td>\n",
              "      <td>Higher education</td>\n",
              "      <td>Civil marriage</td>\n",
              "      <td>Rented apartment</td>\n",
              "      <td>-12005</td>\n",
              "      <td>-4542</td>\n",
              "      <td>1</td>\n",
              "      <td>1</td>\n",
              "      <td>0</td>\n",
              "      <td>0</td>\n",
              "      <td>NaN</td>\n",
              "      <td>2.0</td>\n",
              "      <td>-2</td>\n",
              "      <td>C</td>\n",
              "    </tr>\n",
              "    <tr>\n",
              "      <th>3</th>\n",
              "      <td>5008804</td>\n",
              "      <td>M</td>\n",
              "      <td>Y</td>\n",
              "      <td>Y</td>\n",
              "      <td>0</td>\n",
              "      <td>427500.0</td>\n",
              "      <td>Working</td>\n",
              "      <td>Higher education</td>\n",
              "      <td>Civil marriage</td>\n",
              "      <td>Rented apartment</td>\n",
              "      <td>-12005</td>\n",
              "      <td>-4542</td>\n",
              "      <td>1</td>\n",
              "      <td>1</td>\n",
              "      <td>0</td>\n",
              "      <td>0</td>\n",
              "      <td>NaN</td>\n",
              "      <td>2.0</td>\n",
              "      <td>-3</td>\n",
              "      <td>C</td>\n",
              "    </tr>\n",
              "    <tr>\n",
              "      <th>4</th>\n",
              "      <td>5008804</td>\n",
              "      <td>M</td>\n",
              "      <td>Y</td>\n",
              "      <td>Y</td>\n",
              "      <td>0</td>\n",
              "      <td>427500.0</td>\n",
              "      <td>Working</td>\n",
              "      <td>Higher education</td>\n",
              "      <td>Civil marriage</td>\n",
              "      <td>Rented apartment</td>\n",
              "      <td>-12005</td>\n",
              "      <td>-4542</td>\n",
              "      <td>1</td>\n",
              "      <td>1</td>\n",
              "      <td>0</td>\n",
              "      <td>0</td>\n",
              "      <td>NaN</td>\n",
              "      <td>2.0</td>\n",
              "      <td>-4</td>\n",
              "      <td>C</td>\n",
              "    </tr>\n",
              "  </tbody>\n",
              "</table>\n",
              "</div>\n",
              "      <button class=\"colab-df-convert\" onclick=\"convertToInteractive('df-894add40-b522-4096-9fa2-cfb0fcaee79c')\"\n",
              "              title=\"Convert this dataframe to an interactive table.\"\n",
              "              style=\"display:none;\">\n",
              "        \n",
              "  <svg xmlns=\"http://www.w3.org/2000/svg\" height=\"24px\"viewBox=\"0 0 24 24\"\n",
              "       width=\"24px\">\n",
              "    <path d=\"M0 0h24v24H0V0z\" fill=\"none\"/>\n",
              "    <path d=\"M18.56 5.44l.94 2.06.94-2.06 2.06-.94-2.06-.94-.94-2.06-.94 2.06-2.06.94zm-11 1L8.5 8.5l.94-2.06 2.06-.94-2.06-.94L8.5 2.5l-.94 2.06-2.06.94zm10 10l.94 2.06.94-2.06 2.06-.94-2.06-.94-.94-2.06-.94 2.06-2.06.94z\"/><path d=\"M17.41 7.96l-1.37-1.37c-.4-.4-.92-.59-1.43-.59-.52 0-1.04.2-1.43.59L10.3 9.45l-7.72 7.72c-.78.78-.78 2.05 0 2.83L4 21.41c.39.39.9.59 1.41.59.51 0 1.02-.2 1.41-.59l7.78-7.78 2.81-2.81c.8-.78.8-2.07 0-2.86zM5.41 20L4 18.59l7.72-7.72 1.47 1.35L5.41 20z\"/>\n",
              "  </svg>\n",
              "      </button>\n",
              "      \n",
              "  <style>\n",
              "    .colab-df-container {\n",
              "      display:flex;\n",
              "      flex-wrap:wrap;\n",
              "      gap: 12px;\n",
              "    }\n",
              "\n",
              "    .colab-df-convert {\n",
              "      background-color: #E8F0FE;\n",
              "      border: none;\n",
              "      border-radius: 50%;\n",
              "      cursor: pointer;\n",
              "      display: none;\n",
              "      fill: #1967D2;\n",
              "      height: 32px;\n",
              "      padding: 0 0 0 0;\n",
              "      width: 32px;\n",
              "    }\n",
              "\n",
              "    .colab-df-convert:hover {\n",
              "      background-color: #E2EBFA;\n",
              "      box-shadow: 0px 1px 2px rgba(60, 64, 67, 0.3), 0px 1px 3px 1px rgba(60, 64, 67, 0.15);\n",
              "      fill: #174EA6;\n",
              "    }\n",
              "\n",
              "    [theme=dark] .colab-df-convert {\n",
              "      background-color: #3B4455;\n",
              "      fill: #D2E3FC;\n",
              "    }\n",
              "\n",
              "    [theme=dark] .colab-df-convert:hover {\n",
              "      background-color: #434B5C;\n",
              "      box-shadow: 0px 1px 3px 1px rgba(0, 0, 0, 0.15);\n",
              "      filter: drop-shadow(0px 1px 2px rgba(0, 0, 0, 0.3));\n",
              "      fill: #FFFFFF;\n",
              "    }\n",
              "  </style>\n",
              "\n",
              "      <script>\n",
              "        const buttonEl =\n",
              "          document.querySelector('#df-894add40-b522-4096-9fa2-cfb0fcaee79c button.colab-df-convert');\n",
              "        buttonEl.style.display =\n",
              "          google.colab.kernel.accessAllowed ? 'block' : 'none';\n",
              "\n",
              "        async function convertToInteractive(key) {\n",
              "          const element = document.querySelector('#df-894add40-b522-4096-9fa2-cfb0fcaee79c');\n",
              "          const dataTable =\n",
              "            await google.colab.kernel.invokeFunction('convertToInteractive',\n",
              "                                                     [key], {});\n",
              "          if (!dataTable) return;\n",
              "\n",
              "          const docLinkHtml = 'Like what you see? Visit the ' +\n",
              "            '<a target=\"_blank\" href=https://colab.research.google.com/notebooks/data_table.ipynb>data table notebook</a>'\n",
              "            + ' to learn more about interactive tables.';\n",
              "          element.innerHTML = '';\n",
              "          dataTable['output_type'] = 'display_data';\n",
              "          await google.colab.output.renderOutput(dataTable, element);\n",
              "          const docLink = document.createElement('div');\n",
              "          docLink.innerHTML = docLinkHtml;\n",
              "          element.appendChild(docLink);\n",
              "        }\n",
              "      </script>\n",
              "    </div>\n",
              "  </div>\n",
              "  "
            ]
          },
          "metadata": {},
          "execution_count": 5
        }
      ]
    },
    {
      "cell_type": "code",
      "source": [
        "#Nuesta data esta contaminada por datos duplicados procedemos a eliminarlos \n",
        "data=data.drop_duplicates(\"ID\")"
      ],
      "metadata": {
        "id": "uNY5TIHYZbu8"
      },
      "execution_count": null,
      "outputs": []
    },
    {
      "cell_type": "markdown",
      "source": [
        "  # 5.EDA ( Analisis exploratorio de datos)**  \n",
        "\n"
      ],
      "metadata": {
        "id": "d_htEnfiZuWr"
      }
    },
    {
      "cell_type": "code",
      "source": [
        "import seaborn as sns \n",
        "import matplotlib.pyplot as plt\n",
        "import numpy as np"
      ],
      "metadata": {
        "id": "aFx_ww-bZtk9"
      },
      "execution_count": null,
      "outputs": []
    },
    {
      "cell_type": "code",
      "source": [
        "data.isnull().sum()"
      ],
      "metadata": {
        "colab": {
          "base_uri": "https://localhost:8080/"
        },
        "id": "pzEKKM9pf8Lg",
        "outputId": "34f58806-53b5-4347-be06-c2bf5c601a39"
      },
      "execution_count": null,
      "outputs": [
        {
          "output_type": "execute_result",
          "data": {
            "text/plain": [
              "ID                         0\n",
              "CODE_GENDER                0\n",
              "FLAG_OWN_CAR               0\n",
              "FLAG_OWN_REALTY            0\n",
              "CNT_CHILDREN               0\n",
              "AMT_INCOME_TOTAL           0\n",
              "NAME_INCOME_TYPE           0\n",
              "NAME_EDUCATION_TYPE        0\n",
              "NAME_FAMILY_STATUS         0\n",
              "NAME_HOUSING_TYPE          0\n",
              "DAYS_BIRTH                 0\n",
              "DAYS_EMPLOYED              0\n",
              "FLAG_MOBIL                 0\n",
              "FLAG_WORK_PHONE            0\n",
              "FLAG_PHONE                 0\n",
              "FLAG_EMAIL                 0\n",
              "OCCUPATION_TYPE        11323\n",
              "CNT_FAM_MEMBERS            0\n",
              "MONTHS_BALANCE             0\n",
              "STATUS                     0\n",
              "dtype: int64"
            ]
          },
          "metadata": {},
          "execution_count": 7
        }
      ]
    },
    {
      "cell_type": "code",
      "source": [
        "data[\"OCCUPATION_TYPE\"]=data[\"OCCUPATION_TYPE\"].fillna(\"Sin ocupacion\")"
      ],
      "metadata": {
        "id": "xPrdUZGzgA89",
        "colab": {
          "base_uri": "https://localhost:8080/"
        },
        "outputId": "977ffaa6-55b9-435e-b0ee-d00401172639"
      },
      "execution_count": null,
      "outputs": [
        {
          "output_type": "stream",
          "name": "stderr",
          "text": [
            "/usr/local/lib/python3.7/dist-packages/ipykernel_launcher.py:1: SettingWithCopyWarning: \n",
            "A value is trying to be set on a copy of a slice from a DataFrame.\n",
            "Try using .loc[row_indexer,col_indexer] = value instead\n",
            "\n",
            "See the caveats in the documentation: https://pandas.pydata.org/pandas-docs/stable/user_guide/indexing.html#returning-a-view-versus-a-copy\n",
            "  \"\"\"Entry point for launching an IPython kernel.\n"
          ]
        }
      ]
    },
    {
      "cell_type": "code",
      "source": [
        "cuantitativa=[\"CNT_CHILDREN\",\"AMT_INCOME_TOTAL\",\"DAYS_EMPLOYED\",\"CNT_FAM_MEMBERS\"]\n",
        "cualitativa=[\"NAME_INCOME_TYPE\",\"NAME_EDUCATION_TYPE\",\"NAME_FAMILY_STATUS\",\"NAME_HOUSING_TYPE\",\"OCCUPATION_TYPE\"]\n",
        "bolaneas=[\"CODE_GENDER\",\"FLAG_OWN_CAR\",\"FLAG_OWN_REALTY\",\"FLAG_MOBIL\",\"FLAG_WORK_PHONE\",\"FLAG_PHONE\",\"FLAG_EMAIL\"]"
      ],
      "metadata": {
        "id": "SHT4PTGEepPw"
      },
      "execution_count": null,
      "outputs": []
    },
    {
      "cell_type": "code",
      "source": [
        "sns.set_theme(style=\"darkgrid\")"
      ],
      "metadata": {
        "id": "3pslqM5ViVHf"
      },
      "execution_count": null,
      "outputs": []
    },
    {
      "cell_type": "code",
      "source": [
        "#Cualitativas\n",
        "fig, axes = plt.subplots(2, 3, figsize=(30,20))\n",
        "\n",
        "sns.kdeplot(data=data,x=\"CNT_CHILDREN\",hue=\"STATUS\",ax = axes[0,0],title=\"Densidad del numero de hijos\",xlabel=\"Cantidad de hijos\")\n",
        "plt.xlabel(\"Cantidad de hijos\")\n",
        "plt.title(\"Densidad del numero de hijos\")\n",
        "\n",
        "sns.kdeplot(data=data,x=\"AMT_INCOME_TOTAL\",hue=\"STATUS\", ax = axes[0,1])\n",
        "plt.xlabel(\"Ingreso\")\n",
        "plt.title(\"Densidad del ingreso\")\n",
        "\n",
        "sns.kdeplot(data=data,x=\"DAYS_EMPLOYED\",hue=\"STATUS\", ax = axes[0,2])\n",
        "plt.xlabel(\"Dias empleados \")\n",
        "plt.title(\"Densidad de los dias empleados \")\n",
        "\n",
        "sns.scatterplot(data=data,x=\"CNT_CHILDREN\",y=\"AMT_INCOME_TOTAL\",hue=\"STATUS\",ax = axes[1,0])\n",
        "plt.xlabel(\"Cantidad de hijos\")\n",
        "plt.ylabel(\"Ingreso\")\n",
        "plt.title(\"Ingreso vs cantidad de hijos\")\n",
        "sns.scatterplot(data=data,x=\"CNT_CHILDREN\",y=\"DAYS_EMPLOYED\",hue=\"STATUS\",ax = axes[1,1])\n",
        "plt.xlabel(\"Cantidad de hijos\")\n",
        "plt.ylabel(\"Dias empleados\")\n",
        "plt.title(\"Cantidad de hijos vs dias empleados\")\n",
        "sns.scatterplot(data=data,x=\"DAYS_EMPLOYED\",y=\"AMT_INCOME_TOTAL\",hue=\"STATUS\",ax = axes[1,2])\n",
        "plt.xlabel(\"Dias empleado\")\n",
        "plt.ylabel(\"Ingreso\")\n",
        "plt.title(\"Ingreso vs dias empleados\")\n",
        "\n",
        "plt.show()\n",
        "\n"
      ],
      "metadata": {
        "id": "duW0XPzFj3mU"
      },
      "execution_count": null,
      "outputs": []
    },
    {
      "cell_type": "code",
      "source": [
        "#Cuantitativas\n",
        "fig, axes = plt.subplots(2, 2, figsize=(30,20))\n",
        "\n",
        "sns.countplot(x = 'NAME_INCOME_TYPE', palette='rocket',order = data['NAME_INCOME_TYPE'].value_counts().index, data = data, ax = axes[0,0])\n",
        "plt.xlabel(\"Tipo de ingreso\")\n",
        "sns.countplot(x = 'NAME_EDUCATION_TYPE', palette='Set2',order = data['NAME_EDUCATION_TYPE'].value_counts().index, data = data, ax = axes[0,1])\n",
        "plt.xlabel(\"Nivel de educacion\")\n",
        "sns.countplot(x = 'NAME_FAMILY_STATUS', palette=\"Paired\",order = data['NAME_FAMILY_STATUS'].value_counts().index, data = data, ax = axes[1,0])\n",
        "plt.xlabel(\"Estado familiar\")\n",
        "sns.countplot(x = 'NAME_HOUSING_TYPE', palette=\"crest\",  order = data['NAME_HOUSING_TYPE'].value_counts().index,data = data, ax = axes[1,1])\n",
        "plt.xlabel(\"Donde viven\")\n"
      ],
      "metadata": {
        "id": "r3BC-jugqpck"
      },
      "execution_count": null,
      "outputs": []
    },
    {
      "cell_type": "code",
      "source": [
        "plt.figure(figsize=(30,5))\n",
        "sns.countplot(x = 'OCCUPATION_TYPE', palette=\"BrBG\",order = data['OCCUPATION_TYPE'].value_counts().index, data = data)"
      ],
      "metadata": {
        "id": "3R0iGRXAs5Mb"
      },
      "execution_count": null,
      "outputs": []
    },
    {
      "cell_type": "code",
      "source": [
        "fig, axes = plt.subplots(2, 3, figsize=(25,15))\n",
        "\n",
        "sns.countplot(x = 'CODE_GENDER', palette='rocket', data = data, ax = axes[0,0],hue=\"STATUS\")\n",
        "sns.countplot(x = 'FLAG_OWN_CAR', palette='Set2', data = data, ax = axes[0,1],hue=\"STATUS\")\n",
        "sns.countplot(x = 'FLAG_OWN_REALTY', palette=\"Paired\", data = data, ax = axes[0,2],hue=\"STATUS\")\n",
        "sns.countplot(x = 'FLAG_MOBIL', palette=\"crest\", data = data, ax = axes[1,0],hue=\"STATUS\")\n",
        "sns.countplot(x = 'FLAG_PHONE', palette=\"BrBG\", data = data, ax = axes[1,1],hue=\"STATUS\")\n",
        "sns.countplot(x = 'FLAG_EMAIL', palette=\"BrBG\", data = data, ax = axes[1,2],hue=\"STATUS\")"
      ],
      "metadata": {
        "id": "JMyQNKrjtyPL"
      },
      "execution_count": null,
      "outputs": []
    },
    {
      "cell_type": "markdown",
      "source": [
        " # 6 . Data Wrangling "
      ],
      "metadata": {
        "id": "v8evebDYvf0C"
      }
    },
    {
      "cell_type": "code",
      "source": [
        "data=data.replace([\"Y\",\"N\"],[1,0])\n",
        "data=data.replace([\"M\",\"F\"],[1,0])\n",
        "data[\"OCCUPATION_TYPE\"]=data[\"OCCUPATION_TYPE\"].fillna(\"Sin ocupacion\")"
      ],
      "metadata": {
        "id": "mgqSiu6J9tbe"
      },
      "execution_count": null,
      "outputs": []
    },
    {
      "cell_type": "code",
      "source": [
        "#One hot coding \n",
        "data[\"SECUNDARIA\"]=np.where(data[\"NAME_EDUCATION_TYPE\"] == \"Secondary / secondary special\",1,0 )\n",
        "data[\"PRIMARIA\"]=np.where(data[\"NAME_EDUCATION_TYPE\"] == \"Lower secondary\",1,0 )\n",
        "data[\"SUPERIOR\"]=np.where(data[\"NAME_EDUCATION_TYPE\"] == \"Higher education\",1,0 )\n",
        "data[\"SUPERIOR_INCOMPLETO\"]=np.where(data[\"NAME_EDUCATION_TYPE\"] == \"Incomplete higher\",1,0 )\n",
        "data[\"ACADEMICO\"]=np.where(data[\"NAME_EDUCATION_TYPE\"] == \"Academic degree\",1,0 )"
      ],
      "metadata": {
        "id": "x9-HBJRZzxN8"
      },
      "execution_count": null,
      "outputs": []
    },
    {
      "cell_type": "code",
      "source": [
        "#Label encoder\n",
        "from sklearn.preprocessing import LabelEncoder\n",
        "\n",
        "labelencoder = LabelEncoder()\n",
        "data[\"TRABAJO\"]=labelencoder.fit_transform(data[\"NAME_INCOME_TYPE\"])\n",
        "data[\"TIPO_DE_TRABAJO\"]=labelencoder.fit_transform(data[\"OCCUPATION_TYPE\"])\n",
        "data[\"SITUACION_CIVIL\"]=labelencoder.fit_transform(data[\"NAME_FAMILY_STATUS\"])\n",
        "data[\"DONDE_VIVEN\"]=labelencoder.fit_transform(data[\"NAME_HOUSING_TYPE\"])\n",
        "data[\"SITUACION\"]=labelencoder.fit_transform(data[\"STATUS\"])\n"
      ],
      "metadata": {
        "id": "q7cc_8ml6ljV"
      },
      "execution_count": null,
      "outputs": []
    },
    {
      "cell_type": "code",
      "source": [
        "#Creamos un nuevo data frame que contiene solo las variables numericas\n",
        "df=data.drop([\"NAME_INCOME_TYPE\",\"OCCUPATION_TYPE\",\"NAME_FAMILY_STATUS\",\"NAME_HOUSING_TYPE\",\"NAME_EDUCATION_TYPE\",\"STATUS\"],axis=1)\n"
      ],
      "metadata": {
        "id": "PmR0HyZ0-WF1"
      },
      "execution_count": null,
      "outputs": []
    },
    {
      "cell_type": "code",
      "source": [
        "plt.figure(figsize=(5,5))\n",
        "df.SITUACION.plot(kind=\"density\",color=\"ko\")\n",
        "plt.xlabel(\"Situacion\")\n",
        "plt.title(\"Densidad de Situacion\")\n",
        "\n",
        "#Hacer scatterplot entre ingreso y situacion "
      ],
      "metadata": {
        "colab": {
          "base_uri": "https://localhost:8080/",
          "height": 689
        },
        "id": "OAyD09tEfocB",
        "outputId": "eed6c8b8-e096-4774-8923-f1777a1a88a8"
      },
      "execution_count": null,
      "outputs": [
        {
          "output_type": "error",
          "ename": "ValueError",
          "evalue": "ignored",
          "traceback": [
            "\u001b[0;31m---------------------------------------------------------------------------\u001b[0m",
            "\u001b[0;31mValueError\u001b[0m                                Traceback (most recent call last)",
            "\u001b[0;32m<ipython-input-18-28af165ba9ee>\u001b[0m in \u001b[0;36m<module>\u001b[0;34m\u001b[0m\n\u001b[1;32m      1\u001b[0m \u001b[0mplt\u001b[0m\u001b[0;34m.\u001b[0m\u001b[0mfigure\u001b[0m\u001b[0;34m(\u001b[0m\u001b[0mfigsize\u001b[0m\u001b[0;34m=\u001b[0m\u001b[0;34m(\u001b[0m\u001b[0;36m5\u001b[0m\u001b[0;34m,\u001b[0m\u001b[0;36m5\u001b[0m\u001b[0;34m)\u001b[0m\u001b[0;34m)\u001b[0m\u001b[0;34m\u001b[0m\u001b[0;34m\u001b[0m\u001b[0m\n\u001b[0;32m----> 2\u001b[0;31m \u001b[0mdf\u001b[0m\u001b[0;34m.\u001b[0m\u001b[0mSITUACION\u001b[0m\u001b[0;34m.\u001b[0m\u001b[0mplot\u001b[0m\u001b[0;34m(\u001b[0m\u001b[0mkind\u001b[0m\u001b[0;34m=\u001b[0m\u001b[0;34m\"density\"\u001b[0m\u001b[0;34m,\u001b[0m\u001b[0mcolor\u001b[0m\u001b[0;34m=\u001b[0m\u001b[0;34m\"ko\"\u001b[0m\u001b[0;34m)\u001b[0m\u001b[0;34m\u001b[0m\u001b[0;34m\u001b[0m\u001b[0m\n\u001b[0m\u001b[1;32m      3\u001b[0m \u001b[0mplt\u001b[0m\u001b[0;34m.\u001b[0m\u001b[0mxlabel\u001b[0m\u001b[0;34m(\u001b[0m\u001b[0;34m\"Situacion\"\u001b[0m\u001b[0;34m)\u001b[0m\u001b[0;34m\u001b[0m\u001b[0;34m\u001b[0m\u001b[0m\n\u001b[1;32m      4\u001b[0m \u001b[0mplt\u001b[0m\u001b[0;34m.\u001b[0m\u001b[0mtitle\u001b[0m\u001b[0;34m(\u001b[0m\u001b[0;34m\"Densidad de Situacion\"\u001b[0m\u001b[0;34m)\u001b[0m\u001b[0;34m\u001b[0m\u001b[0;34m\u001b[0m\u001b[0m\n\u001b[1;32m      5\u001b[0m \u001b[0;34m\u001b[0m\u001b[0m\n",
            "\u001b[0;32m/usr/local/lib/python3.7/dist-packages/pandas/plotting/_core.py\u001b[0m in \u001b[0;36m__call__\u001b[0;34m(self, *args, **kwargs)\u001b[0m\n\u001b[1;32m    970\u001b[0m                     \u001b[0mdata\u001b[0m\u001b[0;34m.\u001b[0m\u001b[0mcolumns\u001b[0m \u001b[0;34m=\u001b[0m \u001b[0mlabel_name\u001b[0m\u001b[0;34m\u001b[0m\u001b[0;34m\u001b[0m\u001b[0m\n\u001b[1;32m    971\u001b[0m \u001b[0;34m\u001b[0m\u001b[0m\n\u001b[0;32m--> 972\u001b[0;31m         \u001b[0;32mreturn\u001b[0m \u001b[0mplot_backend\u001b[0m\u001b[0;34m.\u001b[0m\u001b[0mplot\u001b[0m\u001b[0;34m(\u001b[0m\u001b[0mdata\u001b[0m\u001b[0;34m,\u001b[0m \u001b[0mkind\u001b[0m\u001b[0;34m=\u001b[0m\u001b[0mkind\u001b[0m\u001b[0;34m,\u001b[0m \u001b[0;34m**\u001b[0m\u001b[0mkwargs\u001b[0m\u001b[0;34m)\u001b[0m\u001b[0;34m\u001b[0m\u001b[0;34m\u001b[0m\u001b[0m\n\u001b[0m\u001b[1;32m    973\u001b[0m \u001b[0;34m\u001b[0m\u001b[0m\n\u001b[1;32m    974\u001b[0m     \u001b[0m__call__\u001b[0m\u001b[0;34m.\u001b[0m\u001b[0m__doc__\u001b[0m \u001b[0;34m=\u001b[0m \u001b[0m__doc__\u001b[0m\u001b[0;34m\u001b[0m\u001b[0;34m\u001b[0m\u001b[0m\n",
            "\u001b[0;32m/usr/local/lib/python3.7/dist-packages/pandas/plotting/_matplotlib/__init__.py\u001b[0m in \u001b[0;36mplot\u001b[0;34m(data, kind, **kwargs)\u001b[0m\n\u001b[1;32m     69\u001b[0m             \u001b[0mkwargs\u001b[0m\u001b[0;34m[\u001b[0m\u001b[0;34m\"ax\"\u001b[0m\u001b[0;34m]\u001b[0m \u001b[0;34m=\u001b[0m \u001b[0mgetattr\u001b[0m\u001b[0;34m(\u001b[0m\u001b[0max\u001b[0m\u001b[0;34m,\u001b[0m \u001b[0;34m\"left_ax\"\u001b[0m\u001b[0;34m,\u001b[0m \u001b[0max\u001b[0m\u001b[0;34m)\u001b[0m\u001b[0;34m\u001b[0m\u001b[0;34m\u001b[0m\u001b[0m\n\u001b[1;32m     70\u001b[0m     \u001b[0mplot_obj\u001b[0m \u001b[0;34m=\u001b[0m \u001b[0mPLOT_CLASSES\u001b[0m\u001b[0;34m[\u001b[0m\u001b[0mkind\u001b[0m\u001b[0;34m]\u001b[0m\u001b[0;34m(\u001b[0m\u001b[0mdata\u001b[0m\u001b[0;34m,\u001b[0m \u001b[0;34m**\u001b[0m\u001b[0mkwargs\u001b[0m\u001b[0;34m)\u001b[0m\u001b[0;34m\u001b[0m\u001b[0;34m\u001b[0m\u001b[0m\n\u001b[0;32m---> 71\u001b[0;31m     \u001b[0mplot_obj\u001b[0m\u001b[0;34m.\u001b[0m\u001b[0mgenerate\u001b[0m\u001b[0;34m(\u001b[0m\u001b[0;34m)\u001b[0m\u001b[0;34m\u001b[0m\u001b[0;34m\u001b[0m\u001b[0m\n\u001b[0m\u001b[1;32m     72\u001b[0m     \u001b[0mplot_obj\u001b[0m\u001b[0;34m.\u001b[0m\u001b[0mdraw\u001b[0m\u001b[0;34m(\u001b[0m\u001b[0;34m)\u001b[0m\u001b[0;34m\u001b[0m\u001b[0;34m\u001b[0m\u001b[0m\n\u001b[1;32m     73\u001b[0m     \u001b[0;32mreturn\u001b[0m \u001b[0mplot_obj\u001b[0m\u001b[0;34m.\u001b[0m\u001b[0mresult\u001b[0m\u001b[0;34m\u001b[0m\u001b[0;34m\u001b[0m\u001b[0m\n",
            "\u001b[0;32m/usr/local/lib/python3.7/dist-packages/pandas/plotting/_matplotlib/core.py\u001b[0m in \u001b[0;36mgenerate\u001b[0;34m(self)\u001b[0m\n\u001b[1;32m    286\u001b[0m         \u001b[0mself\u001b[0m\u001b[0;34m.\u001b[0m\u001b[0m_compute_plot_data\u001b[0m\u001b[0;34m(\u001b[0m\u001b[0;34m)\u001b[0m\u001b[0;34m\u001b[0m\u001b[0;34m\u001b[0m\u001b[0m\n\u001b[1;32m    287\u001b[0m         \u001b[0mself\u001b[0m\u001b[0;34m.\u001b[0m\u001b[0m_setup_subplots\u001b[0m\u001b[0;34m(\u001b[0m\u001b[0;34m)\u001b[0m\u001b[0;34m\u001b[0m\u001b[0;34m\u001b[0m\u001b[0m\n\u001b[0;32m--> 288\u001b[0;31m         \u001b[0mself\u001b[0m\u001b[0;34m.\u001b[0m\u001b[0m_make_plot\u001b[0m\u001b[0;34m(\u001b[0m\u001b[0;34m)\u001b[0m\u001b[0;34m\u001b[0m\u001b[0;34m\u001b[0m\u001b[0m\n\u001b[0m\u001b[1;32m    289\u001b[0m         \u001b[0mself\u001b[0m\u001b[0;34m.\u001b[0m\u001b[0m_add_table\u001b[0m\u001b[0;34m(\u001b[0m\u001b[0;34m)\u001b[0m\u001b[0;34m\u001b[0m\u001b[0;34m\u001b[0m\u001b[0m\n\u001b[1;32m    290\u001b[0m         \u001b[0mself\u001b[0m\u001b[0;34m.\u001b[0m\u001b[0m_make_legend\u001b[0m\u001b[0;34m(\u001b[0m\u001b[0;34m)\u001b[0m\u001b[0;34m\u001b[0m\u001b[0;34m\u001b[0m\u001b[0m\n",
            "\u001b[0;32m/usr/local/lib/python3.7/dist-packages/pandas/plotting/_matplotlib/hist.py\u001b[0m in \u001b[0;36m_make_plot\u001b[0;34m(self)\u001b[0m\n\u001b[1;32m     81\u001b[0m \u001b[0;34m\u001b[0m\u001b[0m\n\u001b[1;32m     82\u001b[0m     \u001b[0;32mdef\u001b[0m \u001b[0m_make_plot\u001b[0m\u001b[0;34m(\u001b[0m\u001b[0mself\u001b[0m\u001b[0;34m)\u001b[0m\u001b[0;34m:\u001b[0m\u001b[0;34m\u001b[0m\u001b[0;34m\u001b[0m\u001b[0m\n\u001b[0;32m---> 83\u001b[0;31m         \u001b[0mcolors\u001b[0m \u001b[0;34m=\u001b[0m \u001b[0mself\u001b[0m\u001b[0;34m.\u001b[0m\u001b[0m_get_colors\u001b[0m\u001b[0;34m(\u001b[0m\u001b[0;34m)\u001b[0m\u001b[0;34m\u001b[0m\u001b[0;34m\u001b[0m\u001b[0m\n\u001b[0m\u001b[1;32m     84\u001b[0m         \u001b[0mstacking_id\u001b[0m \u001b[0;34m=\u001b[0m \u001b[0mself\u001b[0m\u001b[0;34m.\u001b[0m\u001b[0m_get_stacking_id\u001b[0m\u001b[0;34m(\u001b[0m\u001b[0;34m)\u001b[0m\u001b[0;34m\u001b[0m\u001b[0;34m\u001b[0m\u001b[0m\n\u001b[1;32m     85\u001b[0m \u001b[0;34m\u001b[0m\u001b[0m\n",
            "\u001b[0;32m/usr/local/lib/python3.7/dist-packages/pandas/plotting/_matplotlib/core.py\u001b[0m in \u001b[0;36m_get_colors\u001b[0;34m(self, num_colors, color_kwds)\u001b[0m\n\u001b[1;32m    799\u001b[0m             \u001b[0mnum_colors\u001b[0m\u001b[0;34m=\u001b[0m\u001b[0mnum_colors\u001b[0m\u001b[0;34m,\u001b[0m\u001b[0;34m\u001b[0m\u001b[0;34m\u001b[0m\u001b[0m\n\u001b[1;32m    800\u001b[0m             \u001b[0mcolormap\u001b[0m\u001b[0;34m=\u001b[0m\u001b[0mself\u001b[0m\u001b[0;34m.\u001b[0m\u001b[0mcolormap\u001b[0m\u001b[0;34m,\u001b[0m\u001b[0;34m\u001b[0m\u001b[0;34m\u001b[0m\u001b[0m\n\u001b[0;32m--> 801\u001b[0;31m             \u001b[0mcolor\u001b[0m\u001b[0;34m=\u001b[0m\u001b[0mself\u001b[0m\u001b[0;34m.\u001b[0m\u001b[0mkwds\u001b[0m\u001b[0;34m.\u001b[0m\u001b[0mget\u001b[0m\u001b[0;34m(\u001b[0m\u001b[0mcolor_kwds\u001b[0m\u001b[0;34m)\u001b[0m\u001b[0;34m,\u001b[0m\u001b[0;34m\u001b[0m\u001b[0;34m\u001b[0m\u001b[0m\n\u001b[0m\u001b[1;32m    802\u001b[0m         )\n\u001b[1;32m    803\u001b[0m \u001b[0;34m\u001b[0m\u001b[0m\n",
            "\u001b[0;32m/usr/local/lib/python3.7/dist-packages/pandas/plotting/_matplotlib/style.py\u001b[0m in \u001b[0;36mget_standard_colors\u001b[0;34m(num_colors, colormap, color_type, color)\u001b[0m\n\u001b[1;32m     72\u001b[0m         \u001b[0mcolormap\u001b[0m\u001b[0;34m=\u001b[0m\u001b[0mcolormap\u001b[0m\u001b[0;34m,\u001b[0m\u001b[0;34m\u001b[0m\u001b[0;34m\u001b[0m\u001b[0m\n\u001b[1;32m     73\u001b[0m         \u001b[0mcolor_type\u001b[0m\u001b[0;34m=\u001b[0m\u001b[0mcolor_type\u001b[0m\u001b[0;34m,\u001b[0m\u001b[0;34m\u001b[0m\u001b[0;34m\u001b[0m\u001b[0m\n\u001b[0;32m---> 74\u001b[0;31m         \u001b[0mnum_colors\u001b[0m\u001b[0;34m=\u001b[0m\u001b[0mnum_colors\u001b[0m\u001b[0;34m,\u001b[0m\u001b[0;34m\u001b[0m\u001b[0;34m\u001b[0m\u001b[0m\n\u001b[0m\u001b[1;32m     75\u001b[0m     )\n\u001b[1;32m     76\u001b[0m \u001b[0;34m\u001b[0m\u001b[0m\n",
            "\u001b[0;32m/usr/local/lib/python3.7/dist-packages/pandas/plotting/_matplotlib/style.py\u001b[0m in \u001b[0;36m_derive_colors\u001b[0;34m(color, colormap, color_type, num_colors)\u001b[0m\n\u001b[1;32m    124\u001b[0m                 \u001b[0;34m\"'color' and 'colormap' cannot be used simultaneously. Using 'color'\"\u001b[0m\u001b[0;34m\u001b[0m\u001b[0;34m\u001b[0m\u001b[0m\n\u001b[1;32m    125\u001b[0m             )\n\u001b[0;32m--> 126\u001b[0;31m         \u001b[0;32mreturn\u001b[0m \u001b[0m_get_colors_from_color\u001b[0m\u001b[0;34m(\u001b[0m\u001b[0mcolor\u001b[0m\u001b[0;34m)\u001b[0m\u001b[0;34m\u001b[0m\u001b[0;34m\u001b[0m\u001b[0m\n\u001b[0m\u001b[1;32m    127\u001b[0m     \u001b[0;32melse\u001b[0m\u001b[0;34m:\u001b[0m\u001b[0;34m\u001b[0m\u001b[0;34m\u001b[0m\u001b[0m\n\u001b[1;32m    128\u001b[0m         \u001b[0;32mreturn\u001b[0m \u001b[0m_get_colors_from_color_type\u001b[0m\u001b[0;34m(\u001b[0m\u001b[0mcolor_type\u001b[0m\u001b[0;34m,\u001b[0m \u001b[0mnum_colors\u001b[0m\u001b[0;34m=\u001b[0m\u001b[0mnum_colors\u001b[0m\u001b[0;34m)\u001b[0m\u001b[0;34m\u001b[0m\u001b[0;34m\u001b[0m\u001b[0m\n",
            "\u001b[0;32m/usr/local/lib/python3.7/dist-packages/pandas/plotting/_matplotlib/style.py\u001b[0m in \u001b[0;36m_get_colors_from_color\u001b[0;34m(color)\u001b[0m\n\u001b[1;32m    170\u001b[0m \u001b[0;34m\u001b[0m\u001b[0m\n\u001b[1;32m    171\u001b[0m     \u001b[0mcolor\u001b[0m \u001b[0;34m=\u001b[0m \u001b[0mcast\u001b[0m\u001b[0;34m(\u001b[0m\u001b[0mCollection\u001b[0m\u001b[0;34m[\u001b[0m\u001b[0mColor\u001b[0m\u001b[0;34m]\u001b[0m\u001b[0;34m,\u001b[0m \u001b[0mcolor\u001b[0m\u001b[0;34m)\u001b[0m\u001b[0;34m\u001b[0m\u001b[0;34m\u001b[0m\u001b[0m\n\u001b[0;32m--> 172\u001b[0;31m     \u001b[0;32mreturn\u001b[0m \u001b[0mlist\u001b[0m\u001b[0;34m(\u001b[0m\u001b[0m_gen_list_of_colors_from_iterable\u001b[0m\u001b[0;34m(\u001b[0m\u001b[0mcolor\u001b[0m\u001b[0;34m)\u001b[0m\u001b[0;34m)\u001b[0m\u001b[0;34m\u001b[0m\u001b[0;34m\u001b[0m\u001b[0m\n\u001b[0m\u001b[1;32m    173\u001b[0m \u001b[0;34m\u001b[0m\u001b[0m\n\u001b[1;32m    174\u001b[0m \u001b[0;34m\u001b[0m\u001b[0m\n",
            "\u001b[0;32m/usr/local/lib/python3.7/dist-packages/pandas/plotting/_matplotlib/style.py\u001b[0m in \u001b[0;36m_gen_list_of_colors_from_iterable\u001b[0;34m(color)\u001b[0m\n\u001b[1;32m    203\u001b[0m             \u001b[0;32myield\u001b[0m \u001b[0mx\u001b[0m\u001b[0;34m\u001b[0m\u001b[0;34m\u001b[0m\u001b[0m\n\u001b[1;32m    204\u001b[0m         \u001b[0;32melse\u001b[0m\u001b[0;34m:\u001b[0m\u001b[0;34m\u001b[0m\u001b[0;34m\u001b[0m\u001b[0m\n\u001b[0;32m--> 205\u001b[0;31m             \u001b[0;32mraise\u001b[0m \u001b[0mValueError\u001b[0m\u001b[0;34m(\u001b[0m\u001b[0;34mf\"Invalid color {x}\"\u001b[0m\u001b[0;34m)\u001b[0m\u001b[0;34m\u001b[0m\u001b[0;34m\u001b[0m\u001b[0m\n\u001b[0m\u001b[1;32m    206\u001b[0m \u001b[0;34m\u001b[0m\u001b[0m\n\u001b[1;32m    207\u001b[0m \u001b[0;34m\u001b[0m\u001b[0m\n",
            "\u001b[0;31mValueError\u001b[0m: Invalid color ko"
          ]
        },
        {
          "output_type": "display_data",
          "data": {
            "text/plain": [
              "<Figure size 360x360 with 1 Axes>"
            ],
            "image/png": "[encoded data removed]"
          },
          "metadata": {}
        }
      ]
    },
    {
      "cell_type": "code",
      "source": [
        "import matplotlib.pyplot as plt\n",
        "import numpy as np\n",
        "\n",
        "fig = pl.figure()\n",
        "ax = fig.add_subplot(111)\n",
        "\n",
        "#plt.figure(figsize=(5,5))\n",
        "df.SITUACION.plot(kind=\"density\")\n",
        "plt.xlabel(\"Situacion\")\n",
        "plt.title(\"Densidad de Situacion\")\n",
        "ax.set_xlim([0, 7])\n",
        "\n",
        "#Hacer scatterplot entre ingreso y situacion "
      ],
      "metadata": {
        "id": "n9uJ4bD6Y1Ef"
      },
      "execution_count": null,
      "outputs": []
    },
    {
      "cell_type": "code",
      "source": [
        "import matplotlib.pyplot as pl\n",
        "from matplotlib.ticker import ScalarFormatter\n",
        "\n",
        "\n",
        "fig = pl.figure()\n",
        "ax = fig.add_subplot(111)\n",
        "\n",
        "df.SITUACION.plot(kind=\"density\")\n",
        "\n",
        "plt.title(\"Densidad de Situacion en escala logaritmica\")\n",
        "ax.plot(color='red', lw=2)\n",
        "ax.set_yscale('log')\n",
        "ax.set_yticks([0,0.001, 0.005, 0.025,0.05,0.1,0.2,0.3,0.4,0.5,0.6,0.7])\n",
        "ax.get_yaxis().set_major_formatter(ScalarFormatter())\n",
        "ax.set_ylim([0.0001, 0.8])\n",
        "ax.set_xlim([0, 7])"
      ],
      "metadata": {
        "id": "0Vr-opARjgaX"
      },
      "execution_count": null,
      "outputs": []
    },
    {
      "cell_type": "code",
      "source": [
        "import matplotlib.pyplot as plt\n",
        "import numpy as np\n",
        "\n",
        "fig = pl.figure()\n",
        "ax = fig.add_subplot(111)\n",
        "\n",
        "#plt.figure(figsize=(5,5))\n",
        "df.SITUACION.plot(kind=\"density\")\n",
        "plt.xlabel(\"Situacion\")\n",
        "plt.title(\"Densidad de Situacion\")\n",
        "ax.set_xlim([0, 7])\n",
        "\n",
        "#Hacer scatterplot entre ingreso y situacion "
      ],
      "metadata": {
        "id": "vKoQ7iofZK0m"
      },
      "execution_count": null,
      "outputs": []
    },
    {
      "cell_type": "code",
      "source": [
        "import matplotlib.pyplot as pl\n",
        "from matplotlib.ticker import ScalarFormatter\n",
        "\n",
        "\n",
        "fig = pl.figure()\n",
        "ax = fig.add_subplot(111)\n",
        "\n",
        "df.SITUACION.plot(kind=\"density\")\n",
        "\n",
        "plt.title(\"Densidad de Situacion en escala logaritmica\")\n",
        "ax.plot(color='red', lw=2)\n",
        "ax.set_yscale('log')\n",
        "ax.set_yticks([0,0.001, 0.005, 0.025,0.05,0.1,0.2,0.3,0.4,0.5,0.6,0.7])\n",
        "ax.get_yaxis().set_major_formatter(ScalarFormatter())\n",
        "ax.set_ylim([0.0001, 0.8])\n",
        "ax.set_xlim([0, 7])"
      ],
      "metadata": {
        "colab": {
          "base_uri": "https://localhost:8080/",
          "height": 487
        },
        "outputId": "8b6d7676-f2cb-4317-ca66-bbb0af384fb5",
        "id": "BAiZ7mI4Y9FH"
      },
      "execution_count": null,
      "outputs": [
        {
          "output_type": "error",
          "ename": "NameError",
          "evalue": "ignored",
          "traceback": [
            "\u001b[0;31m---------------------------------------------------------------------------\u001b[0m",
            "\u001b[0;31mNameError\u001b[0m                                 Traceback (most recent call last)",
            "\u001b[0;32m<ipython-input-1-bd7761f81c2e>\u001b[0m in \u001b[0;36m<module>\u001b[0;34m\u001b[0m\n\u001b[1;32m      6\u001b[0m \u001b[0max\u001b[0m \u001b[0;34m=\u001b[0m \u001b[0mfig\u001b[0m\u001b[0;34m.\u001b[0m\u001b[0madd_subplot\u001b[0m\u001b[0;34m(\u001b[0m\u001b[0;36m111\u001b[0m\u001b[0;34m)\u001b[0m\u001b[0;34m\u001b[0m\u001b[0;34m\u001b[0m\u001b[0m\n\u001b[1;32m      7\u001b[0m \u001b[0;34m\u001b[0m\u001b[0m\n\u001b[0;32m----> 8\u001b[0;31m \u001b[0mdf\u001b[0m\u001b[0;34m.\u001b[0m\u001b[0mSITUACION\u001b[0m\u001b[0;34m.\u001b[0m\u001b[0mplot\u001b[0m\u001b[0;34m(\u001b[0m\u001b[0mkind\u001b[0m\u001b[0;34m=\u001b[0m\u001b[0;34m\"density\"\u001b[0m\u001b[0;34m)\u001b[0m\u001b[0;34m\u001b[0m\u001b[0;34m\u001b[0m\u001b[0m\n\u001b[0m\u001b[1;32m      9\u001b[0m \u001b[0;34m\u001b[0m\u001b[0m\n\u001b[1;32m     10\u001b[0m \u001b[0mplt\u001b[0m\u001b[0;34m.\u001b[0m\u001b[0mtitle\u001b[0m\u001b[0;34m(\u001b[0m\u001b[0;34m\"Densidad de Situacion en escala logaritmica\"\u001b[0m\u001b[0;34m)\u001b[0m\u001b[0;34m\u001b[0m\u001b[0;34m\u001b[0m\u001b[0m\n",
            "\u001b[0;31mNameError\u001b[0m: name 'df' is not defined"
          ]
        },
        {
          "output_type": "display_data",
          "data": {
            "text/plain": [
              "<Figure size 432x288 with 1 Axes>"
            ],
            "image/png": "[encoded data removed]"
          },
          "metadata": {
            "needs_background": "light"
          }
        }
      ]
    },
    {
      "cell_type": "code",
      "source": [
        "alpha = df[\"SITUACION\"]\n",
        "beta=[]\n",
        "\n",
        "for x in alpha:\n",
        "  if x > 1 and x <6:\n",
        "    beta.append(x)\n",
        "\n",
        "  else:\n",
        "    pass\n",
        "\n",
        "print(beta)\n",
        "\n",
        "fig = pl.figure()\n",
        "ax = fig.add_subplot(111)\n",
        "\n",
        "gamma = pd.DataFrame (beta, columns = ['beta'])\n",
        "\n",
        "gamma.beta.plot(kind=\"density\")\n",
        "\n",
        "plt.title(\"Densidad de Situacion en el rango 2 hasta 5\")\n",
        "ax.set_xticks([2, 3, 4, 5])\n",
        "ax.plot(color='red', lw=2)\n",
        "ax.set_xlim([2, 5])"
      ],
      "metadata": {
        "colab": {
          "base_uri": "https://localhost:8080/",
          "height": 340
        },
        "id": "3ACQwtHzzjr5",
        "outputId": "7223fb86-281f-41d6-ed50-3af085edf4f8"
      },
      "execution_count": null,
      "outputs": [
        {
          "output_type": "stream",
          "name": "stdout",
          "text": [
            "[5, 5, 5, 5, 5, 5, 5, 3, 5, 5, 5, 5, 5, 5, 5, 5, 5, 5, 5, 5, 5, 5, 4, 5, 5, 5, 5, 5, 5, 5, 5, 5, 5, 5, 5, 2, 5, 5, 5, 5, 5, 4, 5, 5, 5, 5, 2, 2, 5, 5, 3, 5, 5, 2, 5, 5, 5, 5, 5, 5, 5, 5, 5, 5, 4, 5, 5, 2, 4, 2, 5, 5, 2, 2, 5, 3, 5, 2, 3, 5, 3, 2, 5, 5, 2, 3, 2, 2, 5, 2, 5, 2, 5, 5, 2, 5, 5, 4, 2, 2, 5, 5, 5, 5, 5, 2]\n"
          ]
        },
        {
          "output_type": "execute_result",
          "data": {
            "text/plain": [
              "(2.0, 5.0)"
            ]
          },
          "metadata": {},
          "execution_count": 116
        },
        {
          "output_type": "display_data",
          "data": {
            "text/plain": [
              "<Figure size 432x288 with 1 Axes>"
            ],
            "image/png": "[encoded data removed]"
          },
          "metadata": {}
        }
      ]
    },
    {
      "cell_type": "markdown",
      "source": [
        "# 7.Seleccion del algoritmo "
      ],
      "metadata": {
        "id": "KGy1UDu-eV2p"
      }
    },
    {
      "cell_type": "markdown",
      "source": [
        "Utilizaremos un algoritmo de  aprendizaje  supervisado. A pesar de que nuestra variable Target es de tipo numerica, cada numero representa una categoria por lo que nos parece correcto usar un algortimo de clasificacion para resolver nuestro problema de clasificacion multiclase. "
      ],
      "metadata": {
        "id": "LXh_LQp8expn"
      }
    },
    {
      "cell_type": "code",
      "source": [
        "columnas=list(df.columns)\n",
        "columnas"
      ],
      "metadata": {
        "colab": {
          "base_uri": "https://localhost:8080/"
        },
        "id": "EulTvdQDkvBc",
        "outputId": "24a073b7-3fd7-4819-a40f-b5eb8ca0cd6e"
      },
      "execution_count": null,
      "outputs": [
        {
          "output_type": "execute_result",
          "data": {
            "text/plain": [
              "['ID',\n",
              " 'CODE_GENDER',\n",
              " 'FLAG_OWN_CAR',\n",
              " 'FLAG_OWN_REALTY',\n",
              " 'CNT_CHILDREN',\n",
              " 'AMT_INCOME_TOTAL',\n",
              " 'DAYS_BIRTH',\n",
              " 'DAYS_EMPLOYED',\n",
              " 'FLAG_MOBIL',\n",
              " 'FLAG_WORK_PHONE',\n",
              " 'FLAG_PHONE',\n",
              " 'FLAG_EMAIL',\n",
              " 'CNT_FAM_MEMBERS',\n",
              " 'MONTHS_BALANCE',\n",
              " 'SECUNDARIA',\n",
              " 'PRIMARIA',\n",
              " 'SUPERIOR',\n",
              " 'SUPERIOR_INCOMPLETO',\n",
              " 'ACADEMICO',\n",
              " 'TRABAJO',\n",
              " 'TIPO_DE_TRABAJO',\n",
              " 'SITUACION_CIVIL',\n",
              " 'DONDE_VIVEN',\n",
              " 'SITUACION']"
            ]
          },
          "metadata": {},
          "execution_count": 17
        }
      ]
    },
    {
      "cell_type": "code",
      "source": [
        "from sklearn.model_selection import train_test_split\n",
        "from sklearn.neighbors import KNeighborsClassifier\n",
        "from sklearn.ensemble import RandomForestClassifier\n",
        "from sklearn.tree import DecisionTreeClassifier \n",
        "from sklearn import metrics\n",
        "from sklearn.preprocessing import MinMaxScaler\n",
        "\n",
        "\n"
      ],
      "metadata": {
        "id": "ILrM7Y81eVgL"
      },
      "execution_count": null,
      "outputs": []
    },
    {
      "cell_type": "code",
      "source": [
        "#knn\n",
        "X= df.drop([\"ID\",\"DAYS_BIRTH\",\"MONTHS_BALANCE\",\"SITUACION\",\"FLAG_MOBIL\"],axis=1)\n",
        "y= df.SITUACION\n",
        "\n",
        "scaler=MinMaxScaler()\n",
        "X_test , X_train, y_test, y_train = train_test_split(X,y,test_size=0.3,random_state=44)\n",
        "\n",
        "X_train = scaler.fit_transform(X_train)\n",
        "X_test = scaler.transform(X_test)\n",
        "\n",
        "n=10\n",
        "\n",
        "knn=KNeighborsClassifier(n)\n",
        "model=knn.fit(X_train,y_train)\n",
        "pred=model.predict(X_test)\n",
        "\n",
        "print(metrics.classification_report(y_test,pred))"
      ],
      "metadata": {
        "colab": {
          "base_uri": "https://localhost:8080/"
        },
        "id": "tSdBKOHlluN1",
        "outputId": "322f80d0-96ef-4f37-ddd9-12f56e7a2011"
      },
      "execution_count": null,
      "outputs": [
        {
          "output_type": "stream",
          "name": "stdout",
          "text": [
            "              precision    recall  f1-score   support\n",
            "\n",
            "           0       0.29      0.20      0.24      5874\n",
            "           1       0.00      0.00      0.00       191\n",
            "           2       0.00      0.00      0.00        14\n",
            "           3       0.00      0.00      0.00         3\n",
            "           4       0.00      0.00      0.00         5\n",
            "           5       0.00      0.00      0.00        53\n",
            "           6       0.53      0.72      0.61     12623\n",
            "           7       0.38      0.24      0.29      6756\n",
            "\n",
            "    accuracy                           0.46     25519\n",
            "   macro avg       0.15      0.14      0.14     25519\n",
            "weighted avg       0.43      0.46      0.43     25519\n",
            "\n"
          ]
        },
        {
          "output_type": "stream",
          "name": "stderr",
          "text": [
            "/usr/local/lib/python3.7/dist-packages/sklearn/metrics/_classification.py:1318: UndefinedMetricWarning: Precision and F-score are ill-defined and being set to 0.0 in labels with no predicted samples. Use `zero_division` parameter to control this behavior.\n",
            "  _warn_prf(average, modifier, msg_start, len(result))\n",
            "/usr/local/lib/python3.7/dist-packages/sklearn/metrics/_classification.py:1318: UndefinedMetricWarning: Precision and F-score are ill-defined and being set to 0.0 in labels with no predicted samples. Use `zero_division` parameter to control this behavior.\n",
            "  _warn_prf(average, modifier, msg_start, len(result))\n",
            "/usr/local/lib/python3.7/dist-packages/sklearn/metrics/_classification.py:1318: UndefinedMetricWarning: Precision and F-score are ill-defined and being set to 0.0 in labels with no predicted samples. Use `zero_division` parameter to control this behavior.\n",
            "  _warn_prf(average, modifier, msg_start, len(result))\n"
          ]
        }
      ]
    },
    {
      "cell_type": "code",
      "source": [
        "from sklearn import tree\n",
        "\n",
        "X= df.drop([\"ID\",\"DAYS_BIRTH\",\"MONTHS_BALANCE\",\"SITUACION\",\"FLAG_MOBIL\"],axis=1)\n",
        "y= df.SITUACION\n",
        "\n",
        "X_test , X_train, y_test, y_train = train_test_split(X,y,test_size=0.3,random_state=44)\n",
        "\n",
        "clf=DecisionTreeClassifier(random_state=0,max_depth= 50)\n",
        "model=clf.fit(X_train,y_train)\n",
        "pred=model.predict(X_test)\n",
        "\n",
        "print(metrics.classification_report(y_test,pred))"
      ],
      "metadata": {
        "colab": {
          "base_uri": "https://localhost:8080/"
        },
        "id": "smPhTXa3tEhT",
        "outputId": "adc4a236-d6af-4dd7-dbe2-2f59e0d02a81"
      },
      "execution_count": null,
      "outputs": [
        {
          "output_type": "stream",
          "name": "stdout",
          "text": [
            "              precision    recall  f1-score   support\n",
            "\n",
            "           0       0.31      0.38      0.35      5874\n",
            "           1       0.07      0.06      0.06       191\n",
            "           2       0.00      0.00      0.00        14\n",
            "           3       0.00      0.00      0.00         3\n",
            "           4       0.00      0.00      0.00         5\n",
            "           5       0.24      0.23      0.23        53\n",
            "           6       0.60      0.59      0.59     12623\n",
            "           7       0.47      0.38      0.42      6756\n",
            "\n",
            "    accuracy                           0.48     25519\n",
            "   macro avg       0.21      0.21      0.21     25519\n",
            "weighted avg       0.49      0.48      0.49     25519\n",
            "\n"
          ]
        },
        {
          "output_type": "stream",
          "name": "stderr",
          "text": [
            "/usr/local/lib/python3.7/dist-packages/sklearn/metrics/_classification.py:1318: UndefinedMetricWarning: Precision and F-score are ill-defined and being set to 0.0 in labels with no predicted samples. Use `zero_division` parameter to control this behavior.\n",
            "  _warn_prf(average, modifier, msg_start, len(result))\n",
            "/usr/local/lib/python3.7/dist-packages/sklearn/metrics/_classification.py:1318: UndefinedMetricWarning: Precision and F-score are ill-defined and being set to 0.0 in labels with no predicted samples. Use `zero_division` parameter to control this behavior.\n",
            "  _warn_prf(average, modifier, msg_start, len(result))\n",
            "/usr/local/lib/python3.7/dist-packages/sklearn/metrics/_classification.py:1318: UndefinedMetricWarning: Precision and F-score are ill-defined and being set to 0.0 in labels with no predicted samples. Use `zero_division` parameter to control this behavior.\n",
            "  _warn_prf(average, modifier, msg_start, len(result))\n"
          ]
        }
      ]
    },
    {
      "cell_type": "code",
      "source": [
        "X=df.drop([\"SITUACION\",\"MONTHS_BALANCE\",\"DAYS_BIRTH\",\"ID\",\"FLAG_MOBIL\"],axis=1)\n",
        "y=df.SITUACION\n",
        "\n",
        "X_train,X_test,y_train,y_test= train_test_split(X,y,test_size=0.3,random_state=44)\n",
        "\n",
        "#clf=DecisionTreeClassifier(max_depth=30,random_state=87,min_samples_leaf=15)\n",
        "clf=RandomForestClassifier(random_state=0)\n",
        "model=clf.fit(X_train,y_train)\n",
        "predictions1 = model.predict(X_test)\n",
        "\n",
        "\n",
        "\n",
        "print(metrics.classification_report(y_test,predictions1))\n",
        "\n",
        "import time \n",
        "\n",
        "variables=X.columns\n",
        "start_time=time.time()\n",
        "importances = clf.feature_importances_\n",
        "std = np.std([tree.feature_importances_ for tree in clf.estimators_], axis=0)\n",
        "elapsed_time = time.time() - start_time\n",
        "\n",
        "forest_importances = pd.Series(importances, index=variables)\n",
        "\n",
        "fig, ax = plt.subplots()\n",
        "forest_importances.plot.bar(yerr=std, ax=ax)\n",
        "ax.set_title(\"Feature importances using MDI\")\n",
        "ax.set_ylabel(\"Mean decrease in impurity\")\n",
        "fig.tight_layout()"
      ],
      "metadata": {
        "colab": {
          "base_uri": "https://localhost:8080/",
          "height": 673
        },
        "id": "7MBE2FL_a2o6",
        "outputId": "d2b07db2-fa11-48b9-cbd7-e7538f57557f"
      },
      "execution_count": null,
      "outputs": [
        {
          "output_type": "stream",
          "name": "stderr",
          "text": [
            "/usr/local/lib/python3.7/dist-packages/sklearn/metrics/_classification.py:1318: UndefinedMetricWarning: Precision and F-score are ill-defined and being set to 0.0 in labels with no predicted samples. Use `zero_division` parameter to control this behavior.\n",
            "  _warn_prf(average, modifier, msg_start, len(result))\n",
            "/usr/local/lib/python3.7/dist-packages/sklearn/metrics/_classification.py:1318: UndefinedMetricWarning: Precision and F-score are ill-defined and being set to 0.0 in labels with no predicted samples. Use `zero_division` parameter to control this behavior.\n",
            "  _warn_prf(average, modifier, msg_start, len(result))\n",
            "/usr/local/lib/python3.7/dist-packages/sklearn/metrics/_classification.py:1318: UndefinedMetricWarning: Precision and F-score are ill-defined and being set to 0.0 in labels with no predicted samples. Use `zero_division` parameter to control this behavior.\n",
            "  _warn_prf(average, modifier, msg_start, len(result))\n"
          ]
        },
        {
          "output_type": "stream",
          "name": "stdout",
          "text": [
            "              precision    recall  f1-score   support\n",
            "\n",
            "           0       0.40      0.29      0.34      2582\n",
            "           1       0.04      0.01      0.02        85\n",
            "           2       0.25      0.20      0.22         5\n",
            "           3       0.00      0.00      0.00         3\n",
            "           5       0.42      0.22      0.29        23\n",
            "           6       0.60      0.74      0.67      5327\n",
            "           7       0.54      0.46      0.49      2913\n",
            "\n",
            "    accuracy                           0.55     10938\n",
            "   macro avg       0.32      0.27      0.29     10938\n",
            "weighted avg       0.53      0.55      0.54     10938\n",
            "\n"
          ]
        },
        {
          "output_type": "display_data",
          "data": {
            "text/plain": [
              "<Figure size 432x288 with 1 Axes>"
            ],
            "image/png": "[encoded data removed]"
          },
          "metadata": {}
        }
      ]
    }
  ]
}